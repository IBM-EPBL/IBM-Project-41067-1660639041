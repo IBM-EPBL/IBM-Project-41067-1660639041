{
 "cells": [
  {
   "cell_type": "code",
   "execution_count": 1,
   "id": "b52f6047",
   "metadata": {},
   "outputs": [],
   "source": [
    "#import the preprocess library of image\n",
    "from tensorflow.keras.preprocessing.image import ImageDataGenerator"
   ]
  },
  {
   "cell_type": "code",
   "execution_count": 2,
   "id": "d5446938",
   "metadata": {},
   "outputs": [],
   "source": [
    "train_datagen=ImageDataGenerator(rescale=1./255,shear_range=0.2,zoom_range=0.2,horizontal_flip=True,vertical_flip=True)\n",
    "test_datagen=ImageDataGenerator(rescale=1./255)"
   ]
  },
  {
   "cell_type": "code",
   "execution_count": 3,
   "id": "2b3e7cf1",
   "metadata": {},
   "outputs": [
    {
     "name": "stdout",
     "output_type": "stream",
     "text": [
      "Found 742 images belonging to 4 classes.\n",
      "Found 198 images belonging to 4 classes.\n"
     ]
    }
   ],
   "source": [
    "#loading image data\n",
    "x_train=train_datagen.flow_from_directory(r'dataset\\train_set',target_size=(64,64),batch_size=5,class_mode=\"categorical\",color_mode='rgb')\n",
    "x_test=test_datagen.flow_from_directory(r'dataset\\test_set',target_size=(64,64),batch_size=5,class_mode=\"categorical\",color_mode='rgb')"
   ]
  },
  {
   "cell_type": "code",
   "execution_count": null,
   "id": "9bbd0203",
   "metadata": {},
   "outputs": [],
   "source": []
  }
 ],
 "metadata": {
  "kernelspec": {
   "display_name": "Python 3 (ipykernel)",
   "language": "python",
   "name": "python3"
  },
  "language_info": {
   "codemirror_mode": {
    "name": "ipython",
    "version": 3
   },
   "file_extension": ".py",
   "mimetype": "text/x-python",
   "name": "python",
   "nbconvert_exporter": "python",
   "pygments_lexer": "ipython3",
   "version": "3.9.12"
  }
 },
 "nbformat": 4,
 "nbformat_minor": 5
}

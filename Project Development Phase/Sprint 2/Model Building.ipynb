{
 "cells": [
  {
   "cell_type": "code",
   "execution_count": 1,
   "id": "d562ecfe",
   "metadata": {},
   "outputs": [],
   "source": [
    "#import the libraries\n",
    "from tensorflow.keras.models import Sequential\n",
    "from tensorflow.keras.layers import Dense\n",
    "from tensorflow.keras.layers import Convolution2D\n",
    "from tensorflow.keras.layers import MaxPooling2D\n",
    "from tensorflow.keras.layers import Flatten"
   ]
  },
  {
   "cell_type": "code",
   "execution_count": 2,
   "id": "b52f6047",
   "metadata": {},
   "outputs": [],
   "source": [
    "#import the preprocess library of image\n",
    "from tensorflow.keras.preprocessing.image import ImageDataGenerator"
   ]
  },
  {
   "cell_type": "code",
   "execution_count": 3,
   "id": "d5446938",
   "metadata": {},
   "outputs": [],
   "source": [
    "train_datagen=ImageDataGenerator(rescale=1./255,shear_range=0.2,zoom_range=0.2,horizontal_flip=True,vertical_flip=True)\n",
    "test_datagen=ImageDataGenerator(rescale=1./255)"
   ]
  },
  {
   "cell_type": "code",
   "execution_count": 4,
   "id": "2b3e7cf1",
   "metadata": {},
   "outputs": [
    {
     "name": "stdout",
     "output_type": "stream",
     "text": [
      "Found 671 images belonging to 4 classes.\n",
      "Found 136 images belonging to 4 classes.\n"
     ]
    }
   ],
   "source": [
    "#loading image data\n",
    "x_train=train_datagen.flow_from_directory(r'D:\\dataset\\train_set',target_size=(64,64),batch_size=5,class_mode=\"categorical\",color_mode='rgb')\n",
    "x_test=test_datagen.flow_from_directory(r'D:\\dataset\\test_set',target_size=(64,64),batch_size=5,class_mode=\"categorical\",color_mode='rgb')"
   ]
  },
  {
   "cell_type": "code",
   "execution_count": 5,
   "id": "9bbd0203",
   "metadata": {},
   "outputs": [],
   "source": [
    "#initialize the model\n",
    "model=Sequential()"
   ]
  },
  {
   "cell_type": "code",
   "execution_count": 6,
   "id": "a365c5f0",
   "metadata": {},
   "outputs": [],
   "source": [
    "#adding layers\n",
    "model.add(Convolution2D(32,(3,3),input_shape=(64,64,3),activation='relu'))\n",
    "model.add(MaxPooling2D(pool_size=(2,2)))\n",
    "model.add(Convolution2D(32,(3,3),input_shape=(64,64,3),activation='relu'))\n",
    "model.add(MaxPooling2D(pool_size=(2,2)))\n",
    "model.add(Convolution2D(32,(3,3),input_shape=(64,64,3),activation='relu'))\n",
    "model.add(MaxPooling2D(pool_size=(2,2)))"
   ]
  },
  {
   "cell_type": "code",
   "execution_count": 7,
   "id": "fee2de3b",
   "metadata": {},
   "outputs": [],
   "source": [
    "model.add(Flatten())"
   ]
  },
  {
   "cell_type": "code",
   "execution_count": 8,
   "id": "b4ecd077",
   "metadata": {},
   "outputs": [],
   "source": [
    "#hidden layer\n",
    "model.add(Dense(units=300,kernel_initializer=\"random_uniform\",activation='relu'))\n",
    "model.add(Dense(units=300,kernel_initializer=\"random_uniform\",activation='relu'))\n",
    "model.add(Dense(units=300,kernel_initializer=\"random_uniform\",activation='relu'))\n",
    "model.add(Dense(units=300,kernel_initializer=\"random_uniform\",activation='relu'))\n",
    "model.add(Dense(units=300,kernel_initializer=\"random_uniform\",activation='relu'))"
   ]
  },
  {
   "cell_type": "code",
   "execution_count": 9,
   "id": "9b454e7e",
   "metadata": {},
   "outputs": [],
   "source": [
    "#output layer\n",
    "model.add(Dense(units=4,kernel_initializer=\"random_uniform\",activation='softmax'))"
   ]
  },
  {
   "cell_type": "code",
   "execution_count": 10,
   "id": "9478b1d1",
   "metadata": {},
   "outputs": [
    {
     "name": "stdout",
     "output_type": "stream",
     "text": [
      "Model: \"sequential\"\n",
      "_________________________________________________________________\n",
      " Layer (type)                Output Shape              Param #   \n",
      "=================================================================\n",
      " conv2d (Conv2D)             (None, 62, 62, 32)        896       \n",
      "                                                                 \n",
      " max_pooling2d (MaxPooling2D  (None, 31, 31, 32)       0         \n",
      " )                                                               \n",
      "                                                                 \n",
      " conv2d_1 (Conv2D)           (None, 29, 29, 32)        9248      \n",
      "                                                                 \n",
      " max_pooling2d_1 (MaxPooling  (None, 14, 14, 32)       0         \n",
      " 2D)                                                             \n",
      "                                                                 \n",
      " conv2d_2 (Conv2D)           (None, 12, 12, 32)        9248      \n",
      "                                                                 \n",
      " max_pooling2d_2 (MaxPooling  (None, 6, 6, 32)         0         \n",
      " 2D)                                                             \n",
      "                                                                 \n",
      " flatten (Flatten)           (None, 1152)              0         \n",
      "                                                                 \n",
      " dense (Dense)               (None, 300)               345900    \n",
      "                                                                 \n",
      " dense_1 (Dense)             (None, 300)               90300     \n",
      "                                                                 \n",
      " dense_2 (Dense)             (None, 300)               90300     \n",
      "                                                                 \n",
      " dense_3 (Dense)             (None, 300)               90300     \n",
      "                                                                 \n",
      " dense_4 (Dense)             (None, 300)               90300     \n",
      "                                                                 \n",
      " dense_5 (Dense)             (None, 4)                 1204      \n",
      "                                                                 \n",
      "=================================================================\n",
      "Total params: 727,696\n",
      "Trainable params: 727,696\n",
      "Non-trainable params: 0\n",
      "_________________________________________________________________\n"
     ]
    }
   ],
   "source": [
    "model.summary()"
   ]
  },
  {
   "cell_type": "code",
   "execution_count": 11,
   "id": "d066d4da",
   "metadata": {},
   "outputs": [],
   "source": [
    "#compile the model\n",
    "model.compile(loss=\"categorical_crossentropy\",optimizer=\"adam\",metrics=[\"accuracy\"])"
   ]
  },
  {
   "cell_type": "code",
   "execution_count": 12,
   "id": "1873419c",
   "metadata": {},
   "outputs": [
    {
     "name": "stderr",
     "output_type": "stream",
     "text": [
      "C:\\Users\\jijis\\AppData\\Local\\Temp\\ipykernel_2388\\68272945.py:2: UserWarning: `Model.fit_generator` is deprecated and will be removed in a future version. Please use `Model.fit`, which supports generators.\n",
      "  model.fit_generator(x_train,steps_per_epoch=134,epochs=50,validation_data=x_test,validation_steps=27)\n"
     ]
    },
    {
     "name": "stdout",
     "output_type": "stream",
     "text": [
      "Epoch 1/50\n",
      "134/134 [==============================] - 60s 412ms/step - loss: 1.3892 - accuracy: 0.2237 - val_loss: 1.3863 - val_accuracy: 0.2519\n",
      "Epoch 2/50\n",
      "134/134 [==============================] - 32s 239ms/step - loss: 1.3939 - accuracy: 0.2943 - val_loss: 1.3389 - val_accuracy: 0.2815\n",
      "Epoch 3/50\n",
      "134/134 [==============================] - 32s 237ms/step - loss: 1.2883 - accuracy: 0.3694 - val_loss: 1.4487 - val_accuracy: 0.3630\n",
      "Epoch 4/50\n",
      "134/134 [==============================] - 31s 230ms/step - loss: 1.2042 - accuracy: 0.3979 - val_loss: 1.3264 - val_accuracy: 0.3778\n",
      "Epoch 5/50\n",
      "134/134 [==============================] - 32s 238ms/step - loss: 1.2897 - accuracy: 0.4114 - val_loss: 1.2750 - val_accuracy: 0.4593\n",
      "Epoch 6/50\n",
      "134/134 [==============================] - 30s 228ms/step - loss: 1.1877 - accuracy: 0.4474 - val_loss: 1.4929 - val_accuracy: 0.3852\n",
      "Epoch 7/50\n",
      "134/134 [==============================] - 32s 239ms/step - loss: 1.2008 - accuracy: 0.4505 - val_loss: 1.3053 - val_accuracy: 0.3259\n",
      "Epoch 8/50\n",
      "134/134 [==============================] - 31s 230ms/step - loss: 1.1563 - accuracy: 0.4595 - val_loss: 1.2296 - val_accuracy: 0.3852\n",
      "Epoch 9/50\n",
      "134/134 [==============================] - 32s 237ms/step - loss: 1.1505 - accuracy: 0.4790 - val_loss: 1.1952 - val_accuracy: 0.4741\n",
      "Epoch 10/50\n",
      "134/134 [==============================] - 31s 229ms/step - loss: 1.1147 - accuracy: 0.4850 - val_loss: 1.1728 - val_accuracy: 0.4667\n",
      "Epoch 11/50\n",
      "134/134 [==============================] - 31s 232ms/step - loss: 1.0997 - accuracy: 0.4985 - val_loss: 1.2302 - val_accuracy: 0.4370\n",
      "Epoch 12/50\n",
      "134/134 [==============================] - 32s 240ms/step - loss: 1.1074 - accuracy: 0.4925 - val_loss: 1.2124 - val_accuracy: 0.4296\n",
      "Epoch 13/50\n",
      "134/134 [==============================] - 32s 237ms/step - loss: 1.1097 - accuracy: 0.4970 - val_loss: 1.1482 - val_accuracy: 0.5630\n",
      "Epoch 14/50\n",
      "134/134 [==============================] - 31s 229ms/step - loss: 1.0012 - accuracy: 0.5616 - val_loss: 2.0127 - val_accuracy: 0.3556\n",
      "Epoch 15/50\n",
      "134/134 [==============================] - 31s 234ms/step - loss: 0.9743 - accuracy: 0.5811 - val_loss: 1.1779 - val_accuracy: 0.4667\n",
      "Epoch 16/50\n",
      "134/134 [==============================] - 30s 228ms/step - loss: 0.9710 - accuracy: 0.5766 - val_loss: 1.0535 - val_accuracy: 0.5556\n",
      "Epoch 17/50\n",
      "134/134 [==============================] - 31s 230ms/step - loss: 0.9253 - accuracy: 0.5976 - val_loss: 1.0689 - val_accuracy: 0.5037\n",
      "Epoch 18/50\n",
      "134/134 [==============================] - 31s 234ms/step - loss: 0.9442 - accuracy: 0.6096 - val_loss: 1.0640 - val_accuracy: 0.5407\n",
      "Epoch 19/50\n",
      "134/134 [==============================] - 31s 230ms/step - loss: 0.9037 - accuracy: 0.5871 - val_loss: 1.1437 - val_accuracy: 0.4815\n",
      "Epoch 20/50\n",
      "134/134 [==============================] - 32s 238ms/step - loss: 0.8858 - accuracy: 0.5976 - val_loss: 0.9552 - val_accuracy: 0.5926\n",
      "Epoch 21/50\n",
      "134/134 [==============================] - 32s 236ms/step - loss: 0.9056 - accuracy: 0.5961 - val_loss: 1.0007 - val_accuracy: 0.5259\n",
      "Epoch 22/50\n",
      "134/134 [==============================] - 34s 252ms/step - loss: 0.8751 - accuracy: 0.6276 - val_loss: 1.0858 - val_accuracy: 0.5111\n",
      "Epoch 23/50\n",
      "134/134 [==============================] - 33s 241ms/step - loss: 0.8395 - accuracy: 0.6517 - val_loss: 1.0749 - val_accuracy: 0.5630\n",
      "Epoch 24/50\n",
      "134/134 [==============================] - 33s 243ms/step - loss: 0.8276 - accuracy: 0.6486 - val_loss: 0.9055 - val_accuracy: 0.5926\n",
      "Epoch 25/50\n",
      "134/134 [==============================] - 31s 234ms/step - loss: 0.7514 - accuracy: 0.6682 - val_loss: 1.0153 - val_accuracy: 0.5778\n",
      "Epoch 26/50\n",
      "134/134 [==============================] - 32s 243ms/step - loss: 0.7518 - accuracy: 0.6802 - val_loss: 0.8115 - val_accuracy: 0.6963\n",
      "Epoch 27/50\n",
      "134/134 [==============================] - 32s 236ms/step - loss: 0.7326 - accuracy: 0.6997 - val_loss: 0.7660 - val_accuracy: 0.6815\n",
      "Epoch 28/50\n",
      "134/134 [==============================] - 32s 241ms/step - loss: 0.7038 - accuracy: 0.6832 - val_loss: 0.7664 - val_accuracy: 0.6889\n",
      "Epoch 29/50\n",
      "134/134 [==============================] - 31s 231ms/step - loss: 0.6974 - accuracy: 0.7012 - val_loss: 0.7560 - val_accuracy: 0.6370\n",
      "Epoch 30/50\n",
      "134/134 [==============================] - 31s 235ms/step - loss: 0.6818 - accuracy: 0.7147 - val_loss: 0.7643 - val_accuracy: 0.6667\n",
      "Epoch 31/50\n",
      "134/134 [==============================] - 31s 233ms/step - loss: 0.6600 - accuracy: 0.7372 - val_loss: 0.8483 - val_accuracy: 0.6815\n",
      "Epoch 32/50\n",
      "134/134 [==============================] - 32s 240ms/step - loss: 0.7241 - accuracy: 0.7177 - val_loss: 0.6807 - val_accuracy: 0.7185\n",
      "Epoch 33/50\n",
      "134/134 [==============================] - 32s 236ms/step - loss: 0.6217 - accuracy: 0.7402 - val_loss: 0.7815 - val_accuracy: 0.6889\n",
      "Epoch 34/50\n",
      "134/134 [==============================] - 32s 243ms/step - loss: 0.6090 - accuracy: 0.7477 - val_loss: 0.7853 - val_accuracy: 0.7333\n",
      "Epoch 35/50\n",
      "134/134 [==============================] - 32s 239ms/step - loss: 0.6028 - accuracy: 0.7523 - val_loss: 0.8141 - val_accuracy: 0.6593\n",
      "Epoch 36/50\n",
      "134/134 [==============================] - 32s 238ms/step - loss: 0.5898 - accuracy: 0.7628 - val_loss: 1.1043 - val_accuracy: 0.5852\n",
      "Epoch 37/50\n",
      "134/134 [==============================] - 33s 237ms/step - loss: 0.6197 - accuracy: 0.7447 - val_loss: 0.8055 - val_accuracy: 0.7111\n",
      "Epoch 38/50\n",
      "134/134 [==============================] - 32s 237ms/step - loss: 0.5977 - accuracy: 0.7297 - val_loss: 1.0119 - val_accuracy: 0.6519\n",
      "Epoch 39/50\n",
      "134/134 [==============================] - 32s 240ms/step - loss: 0.6232 - accuracy: 0.7462 - val_loss: 0.7701 - val_accuracy: 0.6889\n",
      "Epoch 40/50\n",
      "134/134 [==============================] - 32s 238ms/step - loss: 0.5329 - accuracy: 0.7973 - val_loss: 0.8705 - val_accuracy: 0.6519\n",
      "Epoch 41/50\n",
      "134/134 [==============================] - 32s 236ms/step - loss: 0.5803 - accuracy: 0.7553 - val_loss: 0.7957 - val_accuracy: 0.6444\n",
      "Epoch 42/50\n",
      "134/134 [==============================] - 32s 238ms/step - loss: 0.4978 - accuracy: 0.7958 - val_loss: 0.8023 - val_accuracy: 0.6815\n",
      "Epoch 43/50\n",
      "134/134 [==============================] - 32s 240ms/step - loss: 0.5694 - accuracy: 0.7778 - val_loss: 0.6946 - val_accuracy: 0.7111\n",
      "Epoch 44/50\n",
      "134/134 [==============================] - 31s 227ms/step - loss: 0.5239 - accuracy: 0.7913 - val_loss: 0.7409 - val_accuracy: 0.7037\n",
      "Epoch 45/50\n",
      "134/134 [==============================] - 32s 240ms/step - loss: 0.4869 - accuracy: 0.8093 - val_loss: 0.7452 - val_accuracy: 0.6963\n",
      "Epoch 46/50\n",
      "134/134 [==============================] - 33s 247ms/step - loss: 0.5290 - accuracy: 0.7838 - val_loss: 0.7351 - val_accuracy: 0.6815\n",
      "Epoch 47/50\n",
      "134/134 [==============================] - 33s 248ms/step - loss: 0.5110 - accuracy: 0.7808 - val_loss: 0.8049 - val_accuracy: 0.6222\n",
      "Epoch 48/50\n",
      "134/134 [==============================] - 31s 235ms/step - loss: 0.4753 - accuracy: 0.8108 - val_loss: 0.9879 - val_accuracy: 0.6370\n",
      "Epoch 49/50\n",
      "134/134 [==============================] - 33s 247ms/step - loss: 0.4456 - accuracy: 0.8288 - val_loss: 0.7352 - val_accuracy: 0.6741\n",
      "Epoch 50/50\n",
      "134/134 [==============================] - 32s 240ms/step - loss: 0.4628 - accuracy: 0.8078 - val_loss: 0.8173 - val_accuracy: 0.6667\n"
     ]
    },
    {
     "data": {
      "text/plain": [
       "<keras.callbacks.History at 0x258fa118ee0>"
      ]
     },
     "execution_count": 12,
     "metadata": {},
     "output_type": "execute_result"
    }
   ],
   "source": [
    "#train the model\n",
    "model.fit_generator(x_train,steps_per_epoch=134,epochs=50,validation_data=x_test,validation_steps=27)"
   ]
  },
  {
   "cell_type": "code",
   "execution_count": 79,
   "id": "a92b0771",
   "metadata": {},
   "outputs": [],
   "source": [
    "#save the model\n",
    "model.save(\"disaster.h5\")"
   ]
  },
  {
   "cell_type": "code",
   "execution_count": 86,
   "id": "1507a37f",
   "metadata": {},
   "outputs": [],
   "source": [
    "#test the model\n",
    "from tensorflow.keras.models import load_model\n",
    "from tensorflow.keras.preprocessing import image\n",
    "import numpy as np"
   ]
  },
  {
   "cell_type": "code",
   "execution_count": 81,
   "id": "c3b2dd9b",
   "metadata": {},
   "outputs": [],
   "source": [
    "model=load_model(\"disaster.h5\")\n",
    "img=image.load_img(\"Wildfire.jpg\",target_size=(64,64))"
   ]
  },
  {
   "cell_type": "code",
   "execution_count": 82,
   "id": "112833e3",
   "metadata": {},
   "outputs": [
    {
     "data": {
      "image/png": "[encoded data removed]",
      "text/plain": [
       "<PIL.Image.Image image mode=RGB size=64x64 at 0x1930C15E700>"
      ]
     },
     "execution_count": 82,
     "metadata": {},
     "output_type": "execute_result"
    }
   ],
   "source": [
    "img"
   ]
  },
  {
   "cell_type": "code",
   "execution_count": 83,
   "id": "c7bae932",
   "metadata": {},
   "outputs": [
    {
     "name": "stdout",
     "output_type": "stream",
     "text": [
      "1/1 [==============================] - 0s 156ms/step\n"
     ]
    }
   ],
   "source": [
    "x=image.img_to_array(img)\n",
    "x=np.expand_dims(x,axis=0)\n",
    "pred_prob=model.predict(x)"
   ]
  },
  {
   "cell_type": "code",
   "execution_count": 84,
   "id": "8e2823b3",
   "metadata": {},
   "outputs": [
    {
     "data": {
      "text/plain": [
       "0"
      ]
     },
     "execution_count": 84,
     "metadata": {},
     "output_type": "execute_result"
    }
   ],
   "source": [
    "class_name=[\"Cyclone\",\"Earthquake\",\"Flood\",\"Wildfire\"]\n",
    "pred_id=pred_prob.argmax(axis=1)[0]\n",
    "pred_id"
   ]
  },
  {
   "cell_type": "code",
   "execution_count": 85,
   "id": "10040677",
   "metadata": {},
   "outputs": [
    {
     "name": "stdout",
     "output_type": "stream",
     "text": [
      "Cyclone\n"
     ]
    }
   ],
   "source": [
    "print(str(class_name[pred_id]))"
   ]
  },
  {
   "cell_type": "code",
   "execution_count": null,
   "id": "97c72cea",
   "metadata": {},
   "outputs": [],
   "source": []
  }
 ],
 "metadata": {
  "kernelspec": {
   "display_name": "Python 3 (ipykernel)",
   "language": "python",
   "name": "python3"
  },
  "language_info": {
   "codemirror_mode": {
    "name": "ipython",
    "version": 3
   },
   "file_extension": ".py",
   "mimetype": "text/x-python",
   "name": "python",
   "nbconvert_exporter": "python",
   "pygments_lexer": "ipython3",
   "version": "3.9.12"
  }
 },
 "nbformat": 4,
 "nbformat_minor": 5
}

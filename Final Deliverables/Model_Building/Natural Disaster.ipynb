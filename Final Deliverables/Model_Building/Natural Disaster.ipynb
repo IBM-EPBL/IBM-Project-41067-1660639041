{
 "cells": [
  {
   "cell_type": "code",
   "execution_count": 1,
   "id": "d562ecfe",
   "metadata": {},
   "outputs": [],
   "source": [
    "#import the libraries\n",
    "from tensorflow.keras.models import Sequential\n",
    "from tensorflow.keras.layers import Dense\n",
    "from tensorflow.keras.layers import Convolution2D\n",
    "from tensorflow.keras.layers import MaxPooling2D\n",
    "from tensorflow.keras.layers import Flatten"
   ]
  },
  {
   "cell_type": "code",
   "execution_count": 2,
   "id": "b52f6047",
   "metadata": {},
   "outputs": [],
   "source": [
    "#import the preprocess library of image\n",
    "from tensorflow.keras.preprocessing.image import ImageDataGenerator"
   ]
  },
  {
   "cell_type": "code",
   "execution_count": 3,
   "id": "d5446938",
   "metadata": {},
   "outputs": [],
   "source": [
    "train_datagen=ImageDataGenerator(rescale=1./255,shear_range=0.2,zoom_range=0.2,horizontal_flip=True,vertical_flip=True)\n",
    "test_datagen=ImageDataGenerator(rescale=1./255)"
   ]
  },
  {
   "cell_type": "code",
   "execution_count": 4,
   "id": "2b3e7cf1",
   "metadata": {},
   "outputs": [
    {
     "name": "stdout",
     "output_type": "stream",
     "text": [
      "Found 671 images belonging to 4 classes.\n",
      "Found 136 images belonging to 4 classes.\n"
     ]
    }
   ],
   "source": [
    "#loading image data\n",
    "x_train=train_datagen.flow_from_directory(r'D:\\dataset\\train_set',target_size=(64,64),batch_size=5,class_mode=\"categorical\",color_mode='rgb')\n",
    "x_test=test_datagen.flow_from_directory(r'D:\\dataset\\test_set',target_size=(64,64),batch_size=5,class_mode=\"categorical\",color_mode='rgb')"
   ]
  },
  {
   "cell_type": "code",
   "execution_count": 5,
   "id": "9bbd0203",
   "metadata": {},
   "outputs": [],
   "source": [
    "#initialize the model\n",
    "model=Sequential()"
   ]
  },
  {
   "cell_type": "code",
   "execution_count": 6,
   "id": "a365c5f0",
   "metadata": {},
   "outputs": [],
   "source": [
    "#adding layers\n",
    "model.add(Convolution2D(32,(3,3),input_shape=(64,64,3),activation='relu'))\n",
    "model.add(MaxPooling2D(pool_size=(2,2)))\n",
    "model.add(Convolution2D(32,(3,3),input_shape=(64,64,3),activation='relu'))\n",
    "model.add(MaxPooling2D(pool_size=(2,2)))\n",
    "model.add(Convolution2D(32,(3,3),input_shape=(64,64,3),activation='relu'))\n",
    "model.add(MaxPooling2D(pool_size=(2,2)))"
   ]
  },
  {
   "cell_type": "code",
   "execution_count": 7,
   "id": "fee2de3b",
   "metadata": {},
   "outputs": [],
   "source": [
    "model.add(Flatten())"
   ]
  },
  {
   "cell_type": "code",
   "execution_count": 8,
   "id": "b4ecd077",
   "metadata": {},
   "outputs": [],
   "source": [
    "#hidden layer\n",
    "model.add(Dense(units=300,kernel_initializer=\"random_uniform\",activation='relu'))\n",
    "model.add(Dense(units=300,kernel_initializer=\"random_uniform\",activation='relu'))\n",
    "model.add(Dense(units=300,kernel_initializer=\"random_uniform\",activation='relu'))\n",
    "model.add(Dense(units=300,kernel_initializer=\"random_uniform\",activation='relu'))\n",
    "model.add(Dense(units=300,kernel_initializer=\"random_uniform\",activation='relu'))"
   ]
  },
  {
   "cell_type": "code",
   "execution_count": 9,
   "id": "9b454e7e",
   "metadata": {},
   "outputs": [],
   "source": [
    "#output layer\n",
    "model.add(Dense(units=4,kernel_initializer=\"random_uniform\",activation='softmax'))"
   ]
  },
  {
   "cell_type": "code",
   "execution_count": 10,
   "id": "9478b1d1",
   "metadata": {},
   "outputs": [
    {
     "name": "stdout",
     "output_type": "stream",
     "text": [
      "Model: \"sequential\"\n",
      "_________________________________________________________________\n",
      " Layer (type)                Output Shape              Param #   \n",
      "=================================================================\n",
      " conv2d (Conv2D)             (None, 62, 62, 32)        896       \n",
      "                                                                 \n",
      " max_pooling2d (MaxPooling2D  (None, 31, 31, 32)       0         \n",
      " )                                                               \n",
      "                                                                 \n",
      " conv2d_1 (Conv2D)           (None, 29, 29, 32)        9248      \n",
      "                                                                 \n",
      " max_pooling2d_1 (MaxPooling  (None, 14, 14, 32)       0         \n",
      " 2D)                                                             \n",
      "                                                                 \n",
      " conv2d_2 (Conv2D)           (None, 12, 12, 32)        9248      \n",
      "                                                                 \n",
      " max_pooling2d_2 (MaxPooling  (None, 6, 6, 32)         0         \n",
      " 2D)                                                             \n",
      "                                                                 \n",
      " flatten (Flatten)           (None, 1152)              0         \n",
      "                                                                 \n",
      " dense (Dense)               (None, 300)               345900    \n",
      "                                                                 \n",
      " dense_1 (Dense)             (None, 300)               90300     \n",
      "                                                                 \n",
      " dense_2 (Dense)             (None, 300)               90300     \n",
      "                                                                 \n",
      " dense_3 (Dense)             (None, 300)               90300     \n",
      "                                                                 \n",
      " dense_4 (Dense)             (None, 300)               90300     \n",
      "                                                                 \n",
      " dense_5 (Dense)             (None, 4)                 1204      \n",
      "                                                                 \n",
      "=================================================================\n",
      "Total params: 727,696\n",
      "Trainable params: 727,696\n",
      "Non-trainable params: 0\n",
      "_________________________________________________________________\n"
     ]
    }
   ],
   "source": [
    "model.summary()"
   ]
  },
  {
   "cell_type": "code",
   "execution_count": 11,
   "id": "d066d4da",
   "metadata": {},
   "outputs": [],
   "source": [
    "#compile the model\n",
    "model.compile(loss=\"categorical_crossentropy\",optimizer=\"adam\",metrics=[\"accuracy\"])"
   ]
  },
  {
   "cell_type": "code",
   "execution_count": 12,
   "id": "1873419c",
   "metadata": {},
   "outputs": [
    {
     "name": "stderr",
     "output_type": "stream",
     "text": [
      "C:\\Users\\jijis\\AppData\\Local\\Temp\\ipykernel_8280\\68272945.py:2: UserWarning: `Model.fit_generator` is deprecated and will be removed in a future version. Please use `Model.fit`, which supports generators.\n",
      "  model.fit_generator(x_train,steps_per_epoch=134,epochs=50,validation_data=x_test,validation_steps=27)\n"
     ]
    },
    {
     "name": "stdout",
     "output_type": "stream",
     "text": [
      "Epoch 1/50\n",
      "134/134 [==============================] - 50s 339ms/step - loss: 1.3596 - accuracy: 0.2898 - val_loss: 1.5026 - val_accuracy: 0.2667\n",
      "Epoch 2/50\n",
      "134/134 [==============================] - 31s 236ms/step - loss: 1.2797 - accuracy: 0.3378 - val_loss: 1.3495 - val_accuracy: 0.2889\n",
      "Epoch 3/50\n",
      "134/134 [==============================] - 33s 247ms/step - loss: 1.2380 - accuracy: 0.3559 - val_loss: 1.3483 - val_accuracy: 0.3333\n",
      "Epoch 4/50\n",
      "134/134 [==============================] - 37s 280ms/step - loss: 1.2157 - accuracy: 0.4309 - val_loss: 1.2876 - val_accuracy: 0.3704\n",
      "Epoch 5/50\n",
      "134/134 [==============================] - 34s 250ms/step - loss: 1.1898 - accuracy: 0.4219 - val_loss: 1.4312 - val_accuracy: 0.3185\n",
      "Epoch 6/50\n",
      "134/134 [==============================] - 33s 245ms/step - loss: 1.1683 - accuracy: 0.3934 - val_loss: 1.4087 - val_accuracy: 0.2889\n",
      "Epoch 7/50\n",
      "134/134 [==============================] - 35s 260ms/step - loss: 1.2612 - accuracy: 0.3934 - val_loss: 2.0928 - val_accuracy: 0.3185\n",
      "Epoch 8/50\n",
      "134/134 [==============================] - 33s 245ms/step - loss: 1.2569 - accuracy: 0.3949 - val_loss: 1.6412 - val_accuracy: 0.3037\n",
      "Epoch 9/50\n",
      "134/134 [==============================] - 34s 253ms/step - loss: 1.1856 - accuracy: 0.4114 - val_loss: 1.1797 - val_accuracy: 0.4222\n",
      "Epoch 10/50\n",
      "134/134 [==============================] - 33s 248ms/step - loss: 1.2084 - accuracy: 0.4249 - val_loss: 1.4215 - val_accuracy: 0.2889\n",
      "Epoch 11/50\n",
      "134/134 [==============================] - 33s 249ms/step - loss: 1.1889 - accuracy: 0.4489 - val_loss: 1.2867 - val_accuracy: 0.3778\n",
      "Epoch 12/50\n",
      "134/134 [==============================] - 32s 242ms/step - loss: 1.1087 - accuracy: 0.4309 - val_loss: 1.1044 - val_accuracy: 0.3778\n",
      "Epoch 13/50\n",
      "134/134 [==============================] - 33s 246ms/step - loss: 1.0994 - accuracy: 0.4520 - val_loss: 1.1654 - val_accuracy: 0.4296\n",
      "Epoch 14/50\n",
      "134/134 [==============================] - 34s 252ms/step - loss: 1.0890 - accuracy: 0.4595 - val_loss: 1.1038 - val_accuracy: 0.5111\n",
      "Epoch 15/50\n",
      "134/134 [==============================] - 34s 253ms/step - loss: 1.0776 - accuracy: 0.4940 - val_loss: 1.0973 - val_accuracy: 0.5630\n",
      "Epoch 16/50\n",
      "134/134 [==============================] - 34s 257ms/step - loss: 1.0628 - accuracy: 0.4610 - val_loss: 1.1444 - val_accuracy: 0.4222\n",
      "Epoch 17/50\n",
      "134/134 [==============================] - 36s 267ms/step - loss: 1.0486 - accuracy: 0.4925 - val_loss: 1.2755 - val_accuracy: 0.3852\n",
      "Epoch 18/50\n",
      "134/134 [==============================] - 40s 298ms/step - loss: 1.0213 - accuracy: 0.4820 - val_loss: 1.2610 - val_accuracy: 0.3778\n",
      "Epoch 19/50\n",
      "134/134 [==============================] - 32s 235ms/step - loss: 1.0172 - accuracy: 0.5358 - val_loss: 1.0767 - val_accuracy: 0.4963\n",
      "Epoch 20/50\n",
      "134/134 [==============================] - 42s 315ms/step - loss: 1.0422 - accuracy: 0.5210 - val_loss: 1.1282 - val_accuracy: 0.4889\n",
      "Epoch 21/50\n",
      "134/134 [==============================] - 34s 255ms/step - loss: 1.0141 - accuracy: 0.5345 - val_loss: 1.0699 - val_accuracy: 0.5037\n",
      "Epoch 22/50\n",
      "134/134 [==============================] - 31s 229ms/step - loss: 1.2475 - accuracy: 0.4189 - val_loss: 1.1239 - val_accuracy: 0.4519\n",
      "Epoch 23/50\n",
      "134/134 [==============================] - 33s 244ms/step - loss: 1.0679 - accuracy: 0.5060 - val_loss: 1.5598 - val_accuracy: 0.3333\n",
      "Epoch 24/50\n",
      "134/134 [==============================] - 31s 236ms/step - loss: 1.1344 - accuracy: 0.5045 - val_loss: 1.1158 - val_accuracy: 0.5259\n",
      "Epoch 25/50\n",
      "134/134 [==============================] - 32s 240ms/step - loss: 1.0824 - accuracy: 0.4880 - val_loss: 1.0701 - val_accuracy: 0.4889\n",
      "Epoch 26/50\n",
      "134/134 [==============================] - 30s 226ms/step - loss: 1.0569 - accuracy: 0.4880 - val_loss: 1.2400 - val_accuracy: 0.4519\n",
      "Epoch 27/50\n",
      "134/134 [==============================] - 31s 236ms/step - loss: 1.0560 - accuracy: 0.5045 - val_loss: 1.1181 - val_accuracy: 0.4296\n",
      "Epoch 28/50\n",
      "134/134 [==============================] - 30s 225ms/step - loss: 1.2065 - accuracy: 0.4640 - val_loss: 1.0573 - val_accuracy: 0.5556\n",
      "Epoch 29/50\n",
      "134/134 [==============================] - 32s 239ms/step - loss: 1.0653 - accuracy: 0.5090 - val_loss: 1.2739 - val_accuracy: 0.3630\n",
      "Epoch 30/50\n",
      "134/134 [==============================] - 33s 242ms/step - loss: 0.9925 - accuracy: 0.5526 - val_loss: 1.4339 - val_accuracy: 0.3704\n",
      "Epoch 31/50\n",
      "134/134 [==============================] - 32s 239ms/step - loss: 1.0328 - accuracy: 0.5255 - val_loss: 0.9649 - val_accuracy: 0.6074\n",
      "Epoch 32/50\n",
      "134/134 [==============================] - 30s 227ms/step - loss: 0.9772 - accuracy: 0.5511 - val_loss: 1.0624 - val_accuracy: 0.4963\n",
      "Epoch 33/50\n",
      "134/134 [==============================] - 31s 229ms/step - loss: 0.9774 - accuracy: 0.5556 - val_loss: 0.9908 - val_accuracy: 0.5407\n",
      "Epoch 34/50\n",
      "134/134 [==============================] - 31s 226ms/step - loss: 0.9884 - accuracy: 0.5556 - val_loss: 1.0829 - val_accuracy: 0.4963\n",
      "Epoch 35/50\n",
      "134/134 [==============================] - 31s 232ms/step - loss: 0.9406 - accuracy: 0.5721 - val_loss: 1.0650 - val_accuracy: 0.5630\n",
      "Epoch 36/50\n",
      "134/134 [==============================] - 34s 256ms/step - loss: 1.1989 - accuracy: 0.5195 - val_loss: 1.1335 - val_accuracy: 0.4222\n",
      "Epoch 37/50\n",
      "134/134 [==============================] - 31s 230ms/step - loss: 0.9795 - accuracy: 0.5856 - val_loss: 1.0936 - val_accuracy: 0.5556\n",
      "Epoch 38/50\n",
      "134/134 [==============================] - 32s 237ms/step - loss: 0.9693 - accuracy: 0.5751 - val_loss: 0.9089 - val_accuracy: 0.6296\n",
      "Epoch 39/50\n",
      "134/134 [==============================] - 31s 228ms/step - loss: 0.9654 - accuracy: 0.5586 - val_loss: 0.9871 - val_accuracy: 0.5704\n",
      "Epoch 40/50\n",
      "134/134 [==============================] - 31s 234ms/step - loss: 0.9097 - accuracy: 0.5916 - val_loss: 1.0486 - val_accuracy: 0.6296\n",
      "Epoch 41/50\n",
      "134/134 [==============================] - 30s 226ms/step - loss: 0.9371 - accuracy: 0.5841 - val_loss: 0.9458 - val_accuracy: 0.6222\n",
      "Epoch 42/50\n",
      "134/134 [==============================] - 34s 251ms/step - loss: 0.8989 - accuracy: 0.6066 - val_loss: 1.0021 - val_accuracy: 0.6370\n",
      "Epoch 43/50\n",
      "134/134 [==============================] - 31s 231ms/step - loss: 0.8720 - accuracy: 0.6021 - val_loss: 1.0886 - val_accuracy: 0.6370\n",
      "Epoch 44/50\n",
      "134/134 [==============================] - 31s 231ms/step - loss: 0.8978 - accuracy: 0.6201 - val_loss: 0.8711 - val_accuracy: 0.6593\n",
      "Epoch 45/50\n",
      "134/134 [==============================] - 30s 226ms/step - loss: 0.8661 - accuracy: 0.6562 - val_loss: 1.1068 - val_accuracy: 0.5852\n",
      "Epoch 46/50\n",
      "134/134 [==============================] - 31s 231ms/step - loss: 0.7806 - accuracy: 0.6682 - val_loss: 1.0261 - val_accuracy: 0.5926\n",
      "Epoch 47/50\n",
      "134/134 [==============================] - 32s 238ms/step - loss: 0.7519 - accuracy: 0.6847 - val_loss: 1.0609 - val_accuracy: 0.6444\n",
      "Epoch 48/50\n",
      "134/134 [==============================] - 32s 235ms/step - loss: 0.8358 - accuracy: 0.6502 - val_loss: 0.9171 - val_accuracy: 0.6815\n",
      "Epoch 49/50\n",
      "134/134 [==============================] - 31s 229ms/step - loss: 0.8108 - accuracy: 0.6667 - val_loss: 0.8242 - val_accuracy: 0.6519\n",
      "Epoch 50/50\n",
      "134/134 [==============================] - 31s 235ms/step - loss: 0.7920 - accuracy: 0.6697 - val_loss: 0.8578 - val_accuracy: 0.6593\n"
     ]
    },
    {
     "data": {
      "text/plain": [
       "<keras.callbacks.History at 0x26b82139af0>"
      ]
     },
     "execution_count": 12,
     "metadata": {},
     "output_type": "execute_result"
    }
   ],
   "source": [
    "#train the model\n",
    "model.fit_generator(x_train,steps_per_epoch=134,epochs=50,validation_data=x_test,validation_steps=27)"
   ]
  },
  {
   "cell_type": "code",
   "execution_count": 34,
   "id": "a92b0771",
   "metadata": {},
   "outputs": [],
   "source": [
    "#save the model\n",
    "model.save(\"disaster.h5\")"
   ]
  },
  {
   "cell_type": "code",
   "execution_count": 35,
   "id": "1507a37f",
   "metadata": {},
   "outputs": [],
   "source": [
    "#test the model\n",
    "from tensorflow.keras.models import load_model\n",
    "from tensorflow.keras.preprocessing import image\n",
    "import numpy as np"
   ]
  },
  {
   "cell_type": "code",
   "execution_count": 36,
   "id": "c3b2dd9b",
   "metadata": {},
   "outputs": [],
   "source": [
    "model=load_model(\"disaster.h5\")\n",
    "img=image.load_img(\"Wildfire.jpg\",target_size=(64,64))"
   ]
  },
  {
   "cell_type": "code",
   "execution_count": 37,
   "id": "112833e3",
   "metadata": {},
   "outputs": [
    {
     "data": {
      "image/png": "[encoded data removed]",
      "text/plain": [
       "<PIL.Image.Image image mode=RGB size=64x64 at 0x26B85256D60>"
      ]
     },
     "execution_count": 37,
     "metadata": {},
     "output_type": "execute_result"
    }
   ],
   "source": [
    "img"
   ]
  },
  {
   "cell_type": "code",
   "execution_count": 38,
   "id": "c7bae932",
   "metadata": {},
   "outputs": [
    {
     "name": "stdout",
     "output_type": "stream",
     "text": [
      "1/1 [==============================] - 0s 181ms/step\n"
     ]
    }
   ],
   "source": [
    "x=image.img_to_array(img)\n",
    "x=np.expand_dims(x,axis=0)\n",
    "pred_prob=model.predict(x)"
   ]
  },
  {
   "cell_type": "code",
   "execution_count": 39,
   "id": "8e2823b3",
   "metadata": {},
   "outputs": [
    {
     "data": {
      "text/plain": [
       "3"
      ]
     },
     "execution_count": 39,
     "metadata": {},
     "output_type": "execute_result"
    }
   ],
   "source": [
    "class_name=[\"Cyclone\",\"Earthquake\",\"Flood\",\"Wildfire\"]\n",
    "pred_id=pred_prob.argmax(axis=1)[0]\n",
    "pred_id"
   ]
  },
  {
   "cell_type": "code",
   "execution_count": 40,
   "id": "10040677",
   "metadata": {},
   "outputs": [
    {
     "name": "stdout",
     "output_type": "stream",
     "text": [
      "Wildfire\n"
     ]
    }
   ],
   "source": [
    "print(str(class_name[pred_id]))"
   ]
  },
  {
   "cell_type": "code",
   "execution_count": null,
   "id": "97c72cea",
   "metadata": {},
   "outputs": [],
   "source": []
  }
 ],
 "metadata": {
  "kernelspec": {
   "display_name": "Python 3 (ipykernel)",
   "language": "python",
   "name": "python3"
  },
  "language_info": {
   "codemirror_mode": {
    "name": "ipython",
    "version": 3
   },
   "file_extension": ".py",
   "mimetype": "text/x-python",
   "name": "python",
   "nbconvert_exporter": "python",
   "pygments_lexer": "ipython3",
   "version": "3.9.12"
  }
 },
 "nbformat": 4,
 "nbformat_minor": 5
}
